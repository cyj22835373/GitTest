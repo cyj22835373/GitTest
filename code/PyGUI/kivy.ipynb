{
 "cells": [
  {
   "cell_type": "code",
   "execution_count": 4,
   "id": "8acc0c19",
   "metadata": {
    "scrolled": false
   },
   "outputs": [
    {
     "name": "stderr",
     "output_type": "stream",
     "text": [
      "[INFO   ] [Logger      ] Record log in C:\\Users\\Administrator\\.kivy\\logs\\kivy_22-05-24_57.txt\n",
      "[INFO   ] [deps        ] Successfully imported \"kivy_deps.gstreamer\" 0.3.2\n",
      "[INFO   ] [deps        ] Successfully imported \"kivy_deps.angle\" 0.3.0\n",
      "[INFO   ] [deps        ] Successfully imported \"kivy_deps.glew\" 0.3.0\n",
      "[INFO   ] [deps        ] Successfully imported \"kivy_deps.sdl2\" 0.3.1\n",
      "[INFO   ] [Kivy        ] v2.0.0\n",
      "[INFO   ] [Kivy        ] Installed at \"D:\\anaconda\\envs\\OpenPose\\lib\\site-packages\\kivy\\__init__.py\"\n",
      "[INFO   ] [Python      ] v3.6.13 |Anaconda, Inc.| (default, Mar 16 2021, 11:37:27) [MSC v.1916 64 bit (AMD64)]\n",
      "[INFO   ] [Python      ] Interpreter at \"D:\\anaconda\\envs\\OpenPose\\python.exe\"\n",
      "[INFO   ] [Factory     ] 186 symbols loaded\n",
      "[INFO   ] [Image       ] Providers: img_tex, img_dds, img_sdl2, img_pil (img_ffpyplayer ignored)\n",
      "[INFO   ] [Text        ] Provider: sdl2\n",
      "[INFO   ] [Camera      ] Provider: opencv(['camera_picamera', 'camera_gi'] ignored)\n",
      "[INFO   ] [Window      ] Provider: sdl2\n",
      "[INFO   ] [GL          ] Using the \"OpenGL\" graphics system\n",
      "[INFO   ] [GL          ] GLEW initialization succeeded\n",
      "[INFO   ] [GL          ] Backend used <glew>\n",
      "[INFO   ] [GL          ] OpenGL version <b'4.6.0 NVIDIA 465.89'>\n",
      "[INFO   ] [GL          ] OpenGL vendor <b'NVIDIA Corporation'>\n",
      "[INFO   ] [GL          ] OpenGL renderer <b'NVIDIA GeForce GTX 1070/PCIe/SSE2'>\n",
      "[INFO   ] [GL          ] OpenGL parsed version: 4, 6\n",
      "[INFO   ] [GL          ] Shading version <b'4.60 NVIDIA'>\n",
      "[INFO   ] [GL          ] Texture max size <32768>\n",
      "[INFO   ] [GL          ] Texture max units <32>\n",
      "[INFO   ] [Window      ] auto add sdl2 input provider\n",
      "[INFO   ] [Window      ] virtual keyboard not allowed, single mode, not docked\n"
     ]
    },
    {
     "ename": "NameError",
     "evalue": "name 'kivy' is not defined",
     "output_type": "error",
     "traceback": [
      "\u001b[1;31m---------------------------------------------------------------------------\u001b[0m",
      "\u001b[1;31mNameError\u001b[0m                                 Traceback (most recent call last)",
      "\u001b[1;32m<ipython-input-4-6cc1c0d2ac6e>\u001b[0m in \u001b[0;36m<module>\u001b[1;34m\u001b[0m\n\u001b[0;32m     22\u001b[0m \u001b[1;31m#from sample_lane_detection import *\u001b[0m\u001b[1;33m\u001b[0m\u001b[1;33m\u001b[0m\u001b[1;33m\u001b[0m\u001b[0m\n\u001b[0;32m     23\u001b[0m \u001b[1;33m\u001b[0m\u001b[0m\n\u001b[1;32m---> 24\u001b[1;33m \u001b[0mkivy\u001b[0m\u001b[1;33m.\u001b[0m\u001b[0mrequire\u001b[0m\u001b[1;33m(\u001b[0m\u001b[1;34m'2.0.0'\u001b[0m\u001b[1;33m)\u001b[0m\u001b[1;33m\u001b[0m\u001b[1;33m\u001b[0m\u001b[0m\n\u001b[0m\u001b[0;32m     25\u001b[0m \u001b[1;33m\u001b[0m\u001b[0m\n\u001b[0;32m     26\u001b[0m \u001b[1;31m#indexPage\u001b[0m\u001b[1;33m\u001b[0m\u001b[1;33m\u001b[0m\u001b[1;33m\u001b[0m\u001b[0m\n",
      "\u001b[1;31mNameError\u001b[0m: name 'kivy' is not defined"
     ]
    }
   ],
   "source": [
    "import kivy\n",
    "from kivy.app import App \n",
    "from kivy.uix.floatlayout import FloatLayout \n",
    "from kivy.uix.boxlayout import BoxLayout \n",
    "from kivy.uix.label import Label \n",
    "from kivy.uix.button import Button \n",
    "from kivy.uix.filechooser import FileChooserIconView\n",
    "from kivy.uix.filechooser import FileChooserListView\n",
    "from kivy.uix.filechooser import FileChooserLayout\n",
    "\n",
    "from kivy.properties import ObjectProperty \n",
    "from kivy.uix.popup import Popup \n",
    "from kivy.factory import Factory \n",
    "from kivy.uix.screenmanager import Screen,ScreenManager # from kivy.clock import Clock \n",
    "from kivy.graphics.texture import Texture \n",
    "from kivy.uix.camera import Camera \n",
    "from kivy.properties import BooleanProperty, NumericProperty \n",
    "import os \n",
    "import cv2 \n",
    "import numpy as np \n",
    "import logging \n",
    "from kivy.core.window import Window\n",
    "#from sample_lane_detection import *\n",
    "\n",
    "kivy.require('2.0.0')\n",
    "\n",
    "#indexPage\n",
    "class IndexPage(FloatLayout):\n",
    "\n",
    "    def __init__(self,**kwargs):\n",
    "        super().__init__(**kwargs)\n",
    "    def page_go(*args):\n",
    "        App.get_running_app().screen_manager.current=\"Image_page\"\n",
    "        App.get_running_app().screen_manager.transition.direction = 'left'#这个是过长动画的方向\n",
    "\n",
    "\n",
    "def detect_img(img):\n",
    "    #print(img)\n",
    "    return img\n",
    "def cv_imread(filePath):\n",
    "    with open(filePath,mode=\"rb\") as f:\n",
    "        img_buff = np.frombuffer(f.read(),dtype=np.uint8)\n",
    "    cv_img = cv2.imdecode(img_buff,-1)\n",
    "    return cv_img\n",
    "def kivy_showcvimg(img,win):\n",
    "    img_buff = img.tostring()\n",
    "    img_texture = Texture.create(size=(img.shape[1], img.shape[0]), colorfmt='rgba')\n",
    "    img_texture.blit_buffer(img_buff, colorfmt='rgba', bufferfmt='ubyte')\n",
    "    win.texture = img_texture\n",
    "#Image page\n",
    "class LoadDialog(FloatLayout):\n",
    "    load = ObjectProperty(None)\n",
    "    cancel = ObjectProperty(None)\n",
    "    cwdir = ObjectProperty(None)\n",
    "class LoadFolder(FloatLayout):\n",
    "    load = ObjectProperty(None)\n",
    "    cancel = ObjectProperty(None)\n",
    "    cwdir = ObjectProperty(None)\n",
    "Factory.register(\"LoadDialog\",cls=LoadDialog)#注册一个类？\n",
    "\n",
    "class ImagePage(BoxLayout):\n",
    "    def __init__(self,**kwargs):\n",
    "        super().__init__(**kwargs)\n",
    "    def selectfolder(self):\n",
    "        print(\"selectfolder\")\n",
    "        content = LoadFolder(load=self.openfile,cancel=self.dismiss_popup,cwdir=os.getcwd())\n",
    "        self._popup = Popup(title=\"Load Folder\",content=content,size_hint=(.9,.9))\n",
    "        self._popup.open()\n",
    "    def openfile(self,path,filename):\n",
    "        print(path,filename)\n",
    "    def back_index(*args):\n",
    "        App.get_running_app().screen_manager.current=\"Index_page\"#这个页面返回是Index_page\n",
    "        App.get_running_app().screen_manager.transition.direction = 'right'\n",
    "    def back_video(self,*args):\n",
    "        App.get_running_app().screen_manager.current=\"Video_page\"\n",
    "        App.get_running_app().screen_manager.transition.direction = 'left'\n",
    "    def dismiss_popup(self):\n",
    "        self._popup.dismiss()\n",
    "    def show_load(self):\n",
    "        content = LoadDialog(load=self._load,cancel=self.dismiss_popup,cwdir=os.getcwd())\n",
    "        self._popup = Popup(title=\"Load Image\",content=content,size_hint=(.9,.9))\n",
    "        self._popup.open()\n",
    "    def _load(self,path,filename):\n",
    "        print(path,filename)\n",
    "        self.dismiss_popup()\n",
    "        logging.info(\"path:{},filename:{}\".format(path,filename))\n",
    "        print(\"filename\")\n",
    "        img = cv_imread(filename)\n",
    "        img = detect_img(img)\n",
    "        print(img.shape)\n",
    "        img = cv2.cvtColor(img, cv2.COLOR_BGR2RGBA)\n",
    "        #cv2.imshow(img)\n",
    "        img = cv2.flip(img, 0) # 旋转\n",
    "        #cv2.imshow(img)\n",
    "        print(\"after flip\",img.shape)\n",
    "        kivy_showcvimg(img,self.ids.img_det)\n",
    "        kivy_showcvimg(img,self.ids.img_det1)\n",
    "        #img_buff = img.tostring()\n",
    "        #img_texture = Texture.create(size=(img.shape[1], img.shape[0]), colorfmt='rgba')\n",
    "        #img_texture.blit_buffer(img_buff, colorfmt='rgba', bufferfmt='ubyte')\n",
    "        #self.ids.img_det.texture = img_texture\n",
    "        \n",
    "\n",
    "class LaneDetectApp(App):\n",
    "    def build(self):\n",
    "        Window.fullscreen=0\n",
    "        Window.size=(1000,400)\n",
    "        self.icon = \"./static/icon.ico\" \n",
    "        self.title = \"智能车道线检测App\"\n",
    "        self.load_kv(\"./index.kv\") # 需要创建一个index.kv \n",
    "        self.load_kv(\"./image.kv\")\n",
    "        self.screen_manager = ScreenManager()\n",
    "        pages = {\"Index_page\":IndexPage(),\"Image_page\":ImagePage(),}\n",
    "\n",
    "        for item,page in pages.items(): \n",
    "            print(item)\n",
    "            self.default_page = page\n",
    "             # 添加页面\n",
    "            screen = Screen(name=item)\n",
    "            screen.add_widget(self.default_page) # 向屏幕管理器添加页面\n",
    "            self.screen_manager.add_widget(screen)\n",
    "        return self.screen_manager\n",
    "\n",
    "\n",
    "LaneDetectApp().run()"
   ]
  },
  {
   "cell_type": "code",
   "execution_count": 11,
   "id": "fd95acd2",
   "metadata": {},
   "outputs": [],
   "source": [
    "def GetFoderImagePaths(path):\n",
    "    import os\n",
    "    L=[]\n",
    "    N=[]\n",
    "    for root,dirs,files in os.walk(path):\n",
    "        for file in files:\n",
    "            if os.path.splitext(file)[1] == '.jpg':\n",
    "                L.append(os.path.join(root,file))\n",
    "                N.append(file)\n",
    "    return L,N\n"
   ]
  },
  {
   "cell_type": "code",
   "execution_count": 12,
   "id": "3bb82e76",
   "metadata": {},
   "outputs": [],
   "source": [
    "paths,fnames = GetFoderImagePaths(\"C:\\\\Users\\\\Administrator\\\\Documents\\\\mydemos\\\\PyGUI\\\\TestImages\\\\\")"
   ]
  },
  {
   "cell_type": "code",
   "execution_count": 13,
   "id": "d8f5e670",
   "metadata": {},
   "outputs": [
    {
     "name": "stdout",
     "output_type": "stream",
     "text": [
      "['C:\\\\Users\\\\Administrator\\\\Documents\\\\mydemos\\\\PyGUI\\\\TestImages\\\\DayTable (1).jpg', 'C:\\\\Users\\\\Administrator\\\\Documents\\\\mydemos\\\\PyGUI\\\\TestImages\\\\DayTable (2).jpg', 'C:\\\\Users\\\\Administrator\\\\Documents\\\\mydemos\\\\PyGUI\\\\TestImages\\\\DayTable (3).jpg', 'C:\\\\Users\\\\Administrator\\\\Documents\\\\mydemos\\\\PyGUI\\\\TestImages\\\\DayTable (4).jpg', 'C:\\\\Users\\\\Administrator\\\\Documents\\\\mydemos\\\\PyGUI\\\\TestImages\\\\DayTable (5).jpg', 'C:\\\\Users\\\\Administrator\\\\Documents\\\\mydemos\\\\PyGUI\\\\TestImages\\\\DayTable (6).jpg', 'C:\\\\Users\\\\Administrator\\\\Documents\\\\mydemos\\\\PyGUI\\\\TestImages\\\\DayTable (7).jpg'] ['DayTable (1).jpg', 'DayTable (2).jpg', 'DayTable (3).jpg', 'DayTable (4).jpg', 'DayTable (5).jpg', 'DayTable (6).jpg', 'DayTable (7).jpg']\n"
     ]
    }
   ],
   "source": [
    "print(paths,fnames)"
   ]
  },
  {
   "cell_type": "code",
   "execution_count": 14,
   "id": "6d3d5aba",
   "metadata": {},
   "outputs": [
    {
     "name": "stdout",
     "output_type": "stream",
     "text": [
      "Collecting pandas\n",
      "  Downloading pandas-1.1.5-cp36-cp36m-win_amd64.whl (8.7 MB)\n",
      "Requirement already satisfied: python-dateutil>=2.7.3 in d:\\anaconda\\envs\\openpose\\lib\\site-packages (from pandas) (2.8.2)\n",
      "Requirement already satisfied: numpy>=1.15.4 in d:\\anaconda\\envs\\openpose\\lib\\site-packages (from pandas) (1.19.2)\n",
      "Collecting pytz>=2017.2\n",
      "  Downloading pytz-2022.1-py2.py3-none-any.whl (503 kB)\n",
      "Requirement already satisfied: six>=1.5 in d:\\anaconda\\envs\\openpose\\lib\\site-packages (from python-dateutil>=2.7.3->pandas) (1.16.0)\n",
      "Installing collected packages: pytz, pandas\n",
      "Successfully installed pandas-1.1.5 pytz-2022.1\n",
      "Note: you may need to restart the kernel to use updated packages.\n"
     ]
    }
   ],
   "source": [
    "pip install pandas"
   ]
  },
  {
   "cell_type": "code",
   "execution_count": 15,
   "id": "4a6d0ab4",
   "metadata": {},
   "outputs": [],
   "source": [
    "#import algo as al\n",
    "import pandas as pd\n",
    "def ReadAndReFormCSV(path):\n",
    "    df=pd.read_csv(path)\n",
    "    cname=df.columns[0]\n",
    "    df.index=df[cname]\n",
    "    df=df.drop(cname,axis=1)\n",
    "    return df"
   ]
  },
  {
   "cell_type": "code",
   "execution_count": 21,
   "id": "9f4abdac",
   "metadata": {},
   "outputs": [],
   "source": [
    "#判断observer.csv是否存在\n",
    "import os\n",
    "if(os.path.exists(\"observer.csv\")==False):\n",
    "    df = pd.DataFrame([[\"nobody\",0]],columns=[\"observer\",\"observerid\"])\n",
    "    df.to_csv(\"observer.csv\")"
   ]
  },
  {
   "cell_type": "code",
   "execution_count": null,
   "id": "d8963967",
   "metadata": {},
   "outputs": [],
   "source": [
    "#想observer添加一个observer\n",
    "def AddOneObserver(newName):\n",
    "    if(os.path.exists(\"observer.csv\")==False):\n",
    "        df = pd.DataFrame([[\"nobody\",0]],columns=[\"observer\",\"observerid\"])\n",
    "        df.to_csv(\"observer.csv\")\n",
    "    else:\n",
    "        df = pd.read_csv(\"observer.csv\")\n",
    "        df = pd.DataFrame([[\"nobody\",0]],columns=[\"observer\",\"observerid\"])\n",
    "        "
   ]
  }
 ],
 "metadata": {
  "kernelspec": {
   "display_name": "Python 3",
   "language": "python",
   "name": "python3"
  },
  "language_info": {
   "codemirror_mode": {
    "name": "ipython",
    "version": 3
   },
   "file_extension": ".py",
   "mimetype": "text/x-python",
   "name": "python",
   "nbconvert_exporter": "python",
   "pygments_lexer": "ipython3",
   "version": "3.6.13"
  }
 },
 "nbformat": 4,
 "nbformat_minor": 5
}
